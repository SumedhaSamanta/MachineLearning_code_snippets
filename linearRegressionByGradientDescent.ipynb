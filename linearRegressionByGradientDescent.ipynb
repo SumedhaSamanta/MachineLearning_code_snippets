{
 "cells": [
  {
   "cell_type": "code",
   "execution_count": 1,
   "metadata": {},
   "outputs": [],
   "source": [
    "import numpy as np\n",
    "import pandas as pd\n",
    "import matplotlib.pyplot as plt"
   ]
  },
  {
   "cell_type": "code",
   "execution_count": 2,
   "metadata": {},
   "outputs": [],
   "source": [
    "df=pd.read_csv(r'C:\\Users\\User\\dataset.csv', encoding = \"ISO-8859-1\")"
   ]
  },
  {
   "cell_type": "code",
   "execution_count": 3,
   "metadata": {},
   "outputs": [
    {
     "data": {
      "text/html": [
       "<div>\n",
       "<style scoped>\n",
       "    .dataframe tbody tr th:only-of-type {\n",
       "        vertical-align: middle;\n",
       "    }\n",
       "\n",
       "    .dataframe tbody tr th {\n",
       "        vertical-align: top;\n",
       "    }\n",
       "\n",
       "    .dataframe thead th {\n",
       "        text-align: right;\n",
       "    }\n",
       "</style>\n",
       "<table border=\"1\" class=\"dataframe\">\n",
       "  <thead>\n",
       "    <tr style=\"text-align: right;\">\n",
       "      <th></th>\n",
       "      <th>MODEL</th>\n",
       "      <th>MAKE</th>\n",
       "      <th>MODEL.1</th>\n",
       "      <th>VEHICLE_CLASS</th>\n",
       "      <th>ENGINE_SIZE</th>\n",
       "      <th>CYLINDERS</th>\n",
       "      <th>TRANSMISSION</th>\n",
       "      <th>FUEL</th>\n",
       "      <th>FUEL_CONSUMPTION</th>\n",
       "      <th>CO2_EMISSIONS</th>\n",
       "    </tr>\n",
       "  </thead>\n",
       "  <tbody>\n",
       "    <tr>\n",
       "      <th>0</th>\n",
       "      <td>1995</td>\n",
       "      <td>ACURA</td>\n",
       "      <td>INTEGRA</td>\n",
       "      <td>SUBCOMPACT</td>\n",
       "      <td>1.8</td>\n",
       "      <td>4.0</td>\n",
       "      <td>A4</td>\n",
       "      <td>X</td>\n",
       "      <td>10.2</td>\n",
       "      <td>202.0</td>\n",
       "    </tr>\n",
       "    <tr>\n",
       "      <th>1</th>\n",
       "      <td>1995</td>\n",
       "      <td>ACURA</td>\n",
       "      <td>INTEGRA</td>\n",
       "      <td>SUBCOMPACT</td>\n",
       "      <td>1.8</td>\n",
       "      <td>4.0</td>\n",
       "      <td>M5</td>\n",
       "      <td>X</td>\n",
       "      <td>9.6</td>\n",
       "      <td>193.0</td>\n",
       "    </tr>\n",
       "    <tr>\n",
       "      <th>2</th>\n",
       "      <td>1995</td>\n",
       "      <td>ACURA</td>\n",
       "      <td>INTEGRA GS-R</td>\n",
       "      <td>SUBCOMPACT</td>\n",
       "      <td>1.8</td>\n",
       "      <td>4.0</td>\n",
       "      <td>M5</td>\n",
       "      <td>Z</td>\n",
       "      <td>9.4</td>\n",
       "      <td>191.0</td>\n",
       "    </tr>\n",
       "    <tr>\n",
       "      <th>3</th>\n",
       "      <td>1995</td>\n",
       "      <td>ACURA</td>\n",
       "      <td>LEGEND</td>\n",
       "      <td>COMPACT</td>\n",
       "      <td>3.2</td>\n",
       "      <td>6.0</td>\n",
       "      <td>A4</td>\n",
       "      <td>Z</td>\n",
       "      <td>12.6</td>\n",
       "      <td>251.0</td>\n",
       "    </tr>\n",
       "    <tr>\n",
       "      <th>4</th>\n",
       "      <td>1995</td>\n",
       "      <td>ACURA</td>\n",
       "      <td>LEGEND COUPE</td>\n",
       "      <td>COMPACT</td>\n",
       "      <td>3.2</td>\n",
       "      <td>6.0</td>\n",
       "      <td>A4</td>\n",
       "      <td>Z</td>\n",
       "      <td>13.0</td>\n",
       "      <td>260.0</td>\n",
       "    </tr>\n",
       "    <tr>\n",
       "      <th>...</th>\n",
       "      <td>...</td>\n",
       "      <td>...</td>\n",
       "      <td>...</td>\n",
       "      <td>...</td>\n",
       "      <td>...</td>\n",
       "      <td>...</td>\n",
       "      <td>...</td>\n",
       "      <td>...</td>\n",
       "      <td>...</td>\n",
       "      <td>...</td>\n",
       "    </tr>\n",
       "    <tr>\n",
       "      <th>3535</th>\n",
       "      <td>NaN</td>\n",
       "      <td>D = Diesel</td>\n",
       "      <td>NaN</td>\n",
       "      <td>NaN</td>\n",
       "      <td>NaN</td>\n",
       "      <td>NaN</td>\n",
       "      <td>NaN</td>\n",
       "      <td>NaN</td>\n",
       "      <td>NaN</td>\n",
       "      <td>NaN</td>\n",
       "    </tr>\n",
       "    <tr>\n",
       "      <th>3536</th>\n",
       "      <td>NaN</td>\n",
       "      <td>E = Ethanol (E85)</td>\n",
       "      <td>NaN</td>\n",
       "      <td>NaN</td>\n",
       "      <td>NaN</td>\n",
       "      <td>NaN</td>\n",
       "      <td>NaN</td>\n",
       "      <td>NaN</td>\n",
       "      <td>NaN</td>\n",
       "      <td>NaN</td>\n",
       "    </tr>\n",
       "    <tr>\n",
       "      <th>3537</th>\n",
       "      <td>NaN</td>\n",
       "      <td>N = Natural Gas</td>\n",
       "      <td>NaN</td>\n",
       "      <td>NaN</td>\n",
       "      <td>NaN</td>\n",
       "      <td>NaN</td>\n",
       "      <td>NaN</td>\n",
       "      <td>NaN</td>\n",
       "      <td>NaN</td>\n",
       "      <td>NaN</td>\n",
       "    </tr>\n",
       "    <tr>\n",
       "      <th>3538</th>\n",
       "      <td>Fuel Consumption</td>\n",
       "      <td>City and highway fuel consumption ratings are ...</td>\n",
       "      <td>NaN</td>\n",
       "      <td>NaN</td>\n",
       "      <td>NaN</td>\n",
       "      <td>NaN</td>\n",
       "      <td>NaN</td>\n",
       "      <td>NaN</td>\n",
       "      <td>NaN</td>\n",
       "      <td>NaN</td>\n",
       "    </tr>\n",
       "    <tr>\n",
       "      <th>3539</th>\n",
       "      <td>CO2 Emissions (g/km)</td>\n",
       "      <td>Estimated tailpipe carbon dioxide emissions (i...</td>\n",
       "      <td>NaN</td>\n",
       "      <td>NaN</td>\n",
       "      <td>NaN</td>\n",
       "      <td>NaN</td>\n",
       "      <td>NaN</td>\n",
       "      <td>NaN</td>\n",
       "      <td>NaN</td>\n",
       "      <td>NaN</td>\n",
       "    </tr>\n",
       "  </tbody>\n",
       "</table>\n",
       "<p>3540 rows × 10 columns</p>\n",
       "</div>"
      ],
      "text/plain": [
       "                     MODEL                                               MAKE  \\\n",
       "0                     1995                                              ACURA   \n",
       "1                     1995                                              ACURA   \n",
       "2                     1995                                              ACURA   \n",
       "3                     1995                                              ACURA   \n",
       "4                     1995                                              ACURA   \n",
       "...                    ...                                                ...   \n",
       "3535                   NaN                                         D = Diesel   \n",
       "3536                   NaN                                  E = Ethanol (E85)   \n",
       "3537                   NaN                                    N = Natural Gas   \n",
       "3538      Fuel Consumption  City and highway fuel consumption ratings are ...   \n",
       "3539  CO2 Emissions (g/km)  Estimated tailpipe carbon dioxide emissions (i...   \n",
       "\n",
       "           MODEL.1 VEHICLE_CLASS  ENGINE_SIZE  CYLINDERS TRANSMISSION FUEL  \\\n",
       "0          INTEGRA    SUBCOMPACT          1.8        4.0           A4    X   \n",
       "1          INTEGRA    SUBCOMPACT          1.8        4.0           M5    X   \n",
       "2     INTEGRA GS-R    SUBCOMPACT          1.8        4.0           M5    Z   \n",
       "3           LEGEND       COMPACT          3.2        6.0           A4    Z   \n",
       "4     LEGEND COUPE       COMPACT          3.2        6.0           A4    Z   \n",
       "...            ...           ...          ...        ...          ...  ...   \n",
       "3535           NaN           NaN          NaN        NaN          NaN  NaN   \n",
       "3536           NaN           NaN          NaN        NaN          NaN  NaN   \n",
       "3537           NaN           NaN          NaN        NaN          NaN  NaN   \n",
       "3538           NaN           NaN          NaN        NaN          NaN  NaN   \n",
       "3539           NaN           NaN          NaN        NaN          NaN  NaN   \n",
       "\n",
       "      FUEL_CONSUMPTION  CO2_EMISSIONS  \n",
       "0                 10.2          202.0  \n",
       "1                  9.6          193.0  \n",
       "2                  9.4          191.0  \n",
       "3                 12.6          251.0  \n",
       "4                 13.0          260.0  \n",
       "...                ...            ...  \n",
       "3535               NaN            NaN  \n",
       "3536               NaN            NaN  \n",
       "3537               NaN            NaN  \n",
       "3538               NaN            NaN  \n",
       "3539               NaN            NaN  \n",
       "\n",
       "[3540 rows x 10 columns]"
      ]
     },
     "execution_count": 3,
     "metadata": {},
     "output_type": "execute_result"
    }
   ],
   "source": [
    "df"
   ]
  },
  {
   "cell_type": "code",
   "execution_count": 7,
   "metadata": {},
   "outputs": [
    {
     "data": {
      "image/png": "[encoded data removed]",
      "text/plain": [
       "<Figure size 432x288 with 1 Axes>"
      ]
     },
     "metadata": {
      "needs_background": "light"
     },
     "output_type": "display_data"
    }
   ],
   "source": [
    "cdf=df[['ENGINE_SIZE','CO2_EMISSIONS']]\n",
    "df2=cdf.dropna()\n",
    "plt.scatter(df2.ENGINE_SIZE,df2.CO2_EMISSIONS,color='blue')\n",
    "plt.show()"
   ]
  },
  {
   "cell_type": "code",
   "execution_count": 16,
   "metadata": {},
   "outputs": [
    {
     "name": "stdout",
     "output_type": "stream",
     "text": [
      "[63.71103419] [35.97588497]\n"
     ]
    }
   ],
   "source": [
    "X=np.asanyarray(df2[['ENGINE_SIZE']])\n",
    "Y=np.asanyarray(df2[['CO2_EMISSIONS']])\n",
    "m=0\n",
    "c=0\n",
    "L=0.00019\n",
    "epochs=1000\n",
    "n=float(len(X))\n",
    "\n",
    "for i in range (len(X)):\n",
    "    y_pred=m*X+c\n",
    "    D_m=(-2/n)*sum(X*(Y-y_pred))\n",
    "    D_c=(-2/n)*sum((Y-y_pred))\n",
    "    m=m-(L*D_m)\n",
    "    c=c-(L*D_c)\n",
    "print (m,c)"
   ]
  },
  {
   "cell_type": "code",
   "execution_count": 17,
   "metadata": {},
   "outputs": [
    {
     "data": {
      "image/png": "[encoded data removed]",
      "text/plain": [
       "<Figure size 432x288 with 1 Axes>"
      ]
     },
     "metadata": {
      "needs_background": "light"
     },
     "output_type": "display_data"
    }
   ],
   "source": [
    "y_pred=m*X+c\n",
    "plt.scatter(X,Y)\n",
    "plt.scatter(X,y_pred)\n",
    "plt.show()\n"
   ]
  },
  {
   "cell_type": "code",
   "execution_count": 19,
   "metadata": {},
   "outputs": [],
   "source": [
    "class Linear():\n",
    "    def __init__(self):\n",
    "        self.m=0\n",
    "        self.c=0\n",
    "        self.L=0.001\n",
    "    def fit(self,epochs,x,y):\n",
    "        n=float(len(x))\n",
    "        for i in range (epochs):\n",
    "            y_pred=self.m*x+self.c\n",
    "            D_m=(-2/n)*sum(x*(y-y_pred))\n",
    "            D_c=(-2/n)*sum((y-y_pred))\n",
    "            self.m=self.m-(self.L*D_m)\n",
    "            self.c=self.c-(self.L*D_c)\n",
    "    def predict(self,x):\n",
    "        return (self.m*x)+self.c"
   ]
  },
  {
   "cell_type": "code",
   "execution_count": 22,
   "metadata": {},
   "outputs": [
    {
     "data": {
      "text/plain": [
       "array([18544.8016574])"
      ]
     },
     "execution_count": 22,
     "metadata": {},
     "output_type": "execute_result"
    }
   ],
   "source": [
    "x=np.asanyarray(df2[['ENGINE_SIZE']])\n",
    "y=np.asanyarray(df2[['CO2_EMISSIONS']])\n",
    "object=Linear()\n",
    "object.fit(1000,x,y)\n",
    "object.predict(300)"
   ]
  },
  {
   "cell_type": "code",
   "execution_count": null,
   "metadata": {},
   "outputs": [],
   "source": []
  }
 ],
 "metadata": {
  "kernelspec": {
   "display_name": "Python 3",
   "language": "python",
   "name": "python3"
  },
  "language_info": {
   "codemirror_mode": {
    "name": "ipython",
    "version": 3
   },
   "file_extension": ".py",
   "mimetype": "text/x-python",
   "name": "python",
   "nbconvert_exporter": "python",
   "pygments_lexer": "ipython3",
   "version": "3.8.3"
  }
 },
 "nbformat": 4,
 "nbformat_minor": 4
}
