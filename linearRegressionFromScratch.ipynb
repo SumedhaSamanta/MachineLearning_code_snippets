{
 "cells": [
  {
   "cell_type": "code",
   "execution_count": 5,
   "metadata": {},
   "outputs": [
    {
     "name": "stdout",
     "output_type": "stream",
     "text": [
      "Input the coordinates\n",
      " Enter 'Stop' when done\n",
      "1\n",
      "2\n",
      "3\n",
      "3\n",
      "3\n",
      "4\n",
      "Stop\n",
      "Input the x coordinate:\n",
      "4\n",
      "Required y coordinate is:4.25\n"
     ]
    }
   ],
   "source": [
    "l=[]\n",
    "x=[]\n",
    "y=[]\n",
    "print (\"Input the coordinates\\n Enter 'Stop' when done\")\n",
    "while(1):\n",
    "    i=input()\n",
    "    if(i==\"Stop\"):\n",
    "        break\n",
    "    l.append(int(i))\n",
    "print(\"Input the x coordinate:\")\n",
    "X=int(input())\n",
    "for i in range (0,len(l)):\n",
    "    if i%2==0:\n",
    "        x.append(l[i])\n",
    "    else:\n",
    "        y.append(l[i])\n",
    "summ=0\n",
    "for i in x:\n",
    "    summ=summ+i\n",
    "xm=summ/len(x)\n",
    "summ=0\n",
    "for i in y:\n",
    "    summ=summ+i\n",
    "ym=summ/len(y)\n",
    "summ=0\n",
    "summi=0\n",
    "for i in range (0,len(x)):\n",
    "    summ=summ+((x[i]-xm)*(y[i]-ym))\n",
    "    summi=summi+((x[i]-xm)*(x[i]-xm))\n",
    "O1=summ/summi\n",
    "O0=ym-(O1*xm)\n",
    "Y=O0+(O1*X)\n",
    "print (\"Required y coordinate is:\"+str(Y))\n",
    "\n",
    "\n",
    "    \n",
    "    \n",
    "    "
   ]
  },
  {
   "cell_type": "code",
   "execution_count": 7,
   "metadata": {},
   "outputs": [],
   "source": [
    "class linear_regression():\n",
    "    \n",
    "    def _init_(self):  #constructor to initialize the value\n",
    "        self.x=[]\n",
    "        self.y=[]\n",
    "        self.n=0\n",
    "        self.q0=0\n",
    "        self.q1=0\n",
    "        \n",
    "    def fit(self,x,y):    #trains the model according to the given data\n",
    "        self.x=x\n",
    "        self.y=y\n",
    "        self.n=len(self.x)\n",
    "        a=0                          #numerator of q1\n",
    "        b=0                          #denomerator of q1\n",
    "        x1=sum(self.x)/self.n        #the mean of xs\n",
    "        y1=sum(self.y)/self.n        #the mean of ys\n",
    "        for i in  range(self.n):     #finding the values of numerator and dinominator\n",
    "            a=a+(self.x[i]-x1)*(self.y[i]-y1)\n",
    "            b=b+(self.x[i]-x1)**2\n",
    "        self.q1=a/b         \n",
    "        self.q0=y1-self.q1*x1\n",
    "        \n",
    "    def predict(self,x_val):\n",
    "        return self.q0+self.q1*x_val"
   ]
  },
  {
   "cell_type": "code",
   "execution_count": 8,
   "metadata": {},
   "outputs": [
    {
     "data": {
      "text/plain": [
       "3.875"
      ]
     },
     "execution_count": 8,
     "metadata": {},
     "output_type": "execute_result"
    }
   ],
   "source": [
    "x=[1,3,3]\n",
    "y=[2,3,4]\n",
    "\n",
    "clf=linear_regression()\n",
    "clf.fit(x,y)\n",
    "clf.predict(3.5)"
   ]
  },
  {
   "cell_type": "code",
   "execution_count": 9,
   "metadata": {},
   "outputs": [],
   "source": [
    "import pickle\n",
    "with open('regression.pkl', 'wb') as output:\n",
    "    pickle.dump(clf, output, pickle.HIGHEST_PROTOCOL)"
   ]
  },
  {
   "cell_type": "code",
   "execution_count": 10,
   "metadata": {},
   "outputs": [],
   "source": [
    "with open('regression.pkl', 'rb') as input:\n",
    "    ob = pickle.load(input)"
   ]
  },
  {
   "cell_type": "code",
   "execution_count": 11,
   "metadata": {},
   "outputs": [
    {
     "data": {
      "text/plain": [
       "3.5"
      ]
     },
     "execution_count": 11,
     "metadata": {},
     "output_type": "execute_result"
    }
   ],
   "source": [
    "ob.predict(3)"
   ]
  },
  {
   "cell_type": "code",
   "execution_count": 9,
   "metadata": {},
   "outputs": [],
   "source": [
    "class linearRegression():\n",
    "    def _init_(self):\n",
    "        self.x=[]\n",
    "        self.y=[]\n",
    "        self.n=0\n",
    "        self.O0=0\n",
    "        self.O1=0\n",
    "    def fit(self,x,y):\n",
    "        self.x=x\n",
    "        self.y=y\n",
    "        self.n=len(self.x)\n",
    "        a=0\n",
    "        b=0\n",
    "        xm=sum(self.x)/self.n\n",
    "        ym=sum(self.y)/self.n\n",
    "        for i in range(self.n):\n",
    "            a=a+(self.x[i]-xm)*(self.y[i]-ym)\n",
    "            b=b+(self.x[i]-xm)**2\n",
    "        self.O1=a/b         \n",
    "        self.O0=ym-self.O1*xm\n",
    "        \n",
    "    def predict(self,x_val):\n",
    "        return self.O0+(self.O1*x_val)\n",
    "        "
   ]
  },
  {
   "cell_type": "code",
   "execution_count": 10,
   "metadata": {},
   "outputs": [
    {
     "data": {
      "text/plain": [
       "3.875"
      ]
     },
     "execution_count": 10,
     "metadata": {},
     "output_type": "execute_result"
    }
   ],
   "source": [
    "x=[1,3,3]\n",
    "y=[2,3,4]\n",
    "\n",
    "obj=linearRegression()\n",
    "obj.fit(x,y)\n",
    "obj.predict(3.5)"
   ]
  },
  {
   "cell_type": "code",
   "execution_count": 11,
   "metadata": {},
   "outputs": [],
   "source": [
    "import pickle\n",
    "with open('linearregression.pkl', 'wb') as output:\n",
    "    pickle.dump(obj, output, pickle.HIGHEST_PROTOCOL)"
   ]
  },
  {
   "cell_type": "code",
   "execution_count": 12,
   "metadata": {},
   "outputs": [],
   "source": [
    "with open('linearregression.pkl', 'rb') as input:\n",
    "    ob = pickle.load(input)"
   ]
  },
  {
   "cell_type": "code",
   "execution_count": 13,
   "metadata": {},
   "outputs": [
    {
     "data": {
      "text/plain": [
       "3.5"
      ]
     },
     "execution_count": 13,
     "metadata": {},
     "output_type": "execute_result"
    }
   ],
   "source": [
    "ob.predict(3)"
   ]
  },
  {
   "cell_type": "code",
   "execution_count": 14,
   "metadata": {},
   "outputs": [
    {
     "data": {
      "text/plain": [
       "6.5"
      ]
     },
     "execution_count": 14,
     "metadata": {},
     "output_type": "execute_result"
    }
   ],
   "source": [
    "ob.predict(7)"
   ]
  },
  {
   "cell_type": "code",
   "execution_count": 15,
   "metadata": {},
   "outputs": [],
   "source": [
    "import matplotlib.pyplot as plt\n",
    "import pandas as pd\n",
    "import numpy as np\n",
    "df=pd.read_csv(r'C:\\Users\\User\\dataset.csv', encoding = \"ISO-8859-1\")"
   ]
  },
  {
   "cell_type": "code",
   "execution_count": 16,
   "metadata": {},
   "outputs": [
    {
     "data": {
      "text/html": [
       "<div>\n",
       "<style scoped>\n",
       "    .dataframe tbody tr th:only-of-type {\n",
       "        vertical-align: middle;\n",
       "    }\n",
       "\n",
       "    .dataframe tbody tr th {\n",
       "        vertical-align: top;\n",
       "    }\n",
       "\n",
       "    .dataframe thead th {\n",
       "        text-align: right;\n",
       "    }\n",
       "</style>\n",
       "<table border=\"1\" class=\"dataframe\">\n",
       "  <thead>\n",
       "    <tr style=\"text-align: right;\">\n",
       "      <th></th>\n",
       "      <th>MODEL</th>\n",
       "      <th>MAKE</th>\n",
       "      <th>MODEL.1</th>\n",
       "      <th>VEHICLE_CLASS</th>\n",
       "      <th>ENGINE_SIZE</th>\n",
       "      <th>CYLINDERS</th>\n",
       "      <th>TRANSMISSION</th>\n",
       "      <th>FUEL</th>\n",
       "      <th>FUEL_CONSUMPTION</th>\n",
       "      <th>CO2_EMISSIONS</th>\n",
       "    </tr>\n",
       "  </thead>\n",
       "  <tbody>\n",
       "    <tr>\n",
       "      <th>0</th>\n",
       "      <td>1995</td>\n",
       "      <td>ACURA</td>\n",
       "      <td>INTEGRA</td>\n",
       "      <td>SUBCOMPACT</td>\n",
       "      <td>1.8</td>\n",
       "      <td>4.0</td>\n",
       "      <td>A4</td>\n",
       "      <td>X</td>\n",
       "      <td>10.2</td>\n",
       "      <td>202.0</td>\n",
       "    </tr>\n",
       "    <tr>\n",
       "      <th>1</th>\n",
       "      <td>1995</td>\n",
       "      <td>ACURA</td>\n",
       "      <td>INTEGRA</td>\n",
       "      <td>SUBCOMPACT</td>\n",
       "      <td>1.8</td>\n",
       "      <td>4.0</td>\n",
       "      <td>M5</td>\n",
       "      <td>X</td>\n",
       "      <td>9.6</td>\n",
       "      <td>193.0</td>\n",
       "    </tr>\n",
       "    <tr>\n",
       "      <th>2</th>\n",
       "      <td>1995</td>\n",
       "      <td>ACURA</td>\n",
       "      <td>INTEGRA GS-R</td>\n",
       "      <td>SUBCOMPACT</td>\n",
       "      <td>1.8</td>\n",
       "      <td>4.0</td>\n",
       "      <td>M5</td>\n",
       "      <td>Z</td>\n",
       "      <td>9.4</td>\n",
       "      <td>191.0</td>\n",
       "    </tr>\n",
       "    <tr>\n",
       "      <th>3</th>\n",
       "      <td>1995</td>\n",
       "      <td>ACURA</td>\n",
       "      <td>LEGEND</td>\n",
       "      <td>COMPACT</td>\n",
       "      <td>3.2</td>\n",
       "      <td>6.0</td>\n",
       "      <td>A4</td>\n",
       "      <td>Z</td>\n",
       "      <td>12.6</td>\n",
       "      <td>251.0</td>\n",
       "    </tr>\n",
       "    <tr>\n",
       "      <th>4</th>\n",
       "      <td>1995</td>\n",
       "      <td>ACURA</td>\n",
       "      <td>LEGEND COUPE</td>\n",
       "      <td>COMPACT</td>\n",
       "      <td>3.2</td>\n",
       "      <td>6.0</td>\n",
       "      <td>A4</td>\n",
       "      <td>Z</td>\n",
       "      <td>13.0</td>\n",
       "      <td>260.0</td>\n",
       "    </tr>\n",
       "    <tr>\n",
       "      <th>...</th>\n",
       "      <td>...</td>\n",
       "      <td>...</td>\n",
       "      <td>...</td>\n",
       "      <td>...</td>\n",
       "      <td>...</td>\n",
       "      <td>...</td>\n",
       "      <td>...</td>\n",
       "      <td>...</td>\n",
       "      <td>...</td>\n",
       "      <td>...</td>\n",
       "    </tr>\n",
       "    <tr>\n",
       "      <th>3535</th>\n",
       "      <td>NaN</td>\n",
       "      <td>D = Diesel</td>\n",
       "      <td>NaN</td>\n",
       "      <td>NaN</td>\n",
       "      <td>NaN</td>\n",
       "      <td>NaN</td>\n",
       "      <td>NaN</td>\n",
       "      <td>NaN</td>\n",
       "      <td>NaN</td>\n",
       "      <td>NaN</td>\n",
       "    </tr>\n",
       "    <tr>\n",
       "      <th>3536</th>\n",
       "      <td>NaN</td>\n",
       "      <td>E = Ethanol (E85)</td>\n",
       "      <td>NaN</td>\n",
       "      <td>NaN</td>\n",
       "      <td>NaN</td>\n",
       "      <td>NaN</td>\n",
       "      <td>NaN</td>\n",
       "      <td>NaN</td>\n",
       "      <td>NaN</td>\n",
       "      <td>NaN</td>\n",
       "    </tr>\n",
       "    <tr>\n",
       "      <th>3537</th>\n",
       "      <td>NaN</td>\n",
       "      <td>N = Natural Gas</td>\n",
       "      <td>NaN</td>\n",
       "      <td>NaN</td>\n",
       "      <td>NaN</td>\n",
       "      <td>NaN</td>\n",
       "      <td>NaN</td>\n",
       "      <td>NaN</td>\n",
       "      <td>NaN</td>\n",
       "      <td>NaN</td>\n",
       "    </tr>\n",
       "    <tr>\n",
       "      <th>3538</th>\n",
       "      <td>Fuel Consumption</td>\n",
       "      <td>City and highway fuel consumption ratings are ...</td>\n",
       "      <td>NaN</td>\n",
       "      <td>NaN</td>\n",
       "      <td>NaN</td>\n",
       "      <td>NaN</td>\n",
       "      <td>NaN</td>\n",
       "      <td>NaN</td>\n",
       "      <td>NaN</td>\n",
       "      <td>NaN</td>\n",
       "    </tr>\n",
       "    <tr>\n",
       "      <th>3539</th>\n",
       "      <td>CO2 Emissions (g/km)</td>\n",
       "      <td>Estimated tailpipe carbon dioxide emissions (i...</td>\n",
       "      <td>NaN</td>\n",
       "      <td>NaN</td>\n",
       "      <td>NaN</td>\n",
       "      <td>NaN</td>\n",
       "      <td>NaN</td>\n",
       "      <td>NaN</td>\n",
       "      <td>NaN</td>\n",
       "      <td>NaN</td>\n",
       "    </tr>\n",
       "  </tbody>\n",
       "</table>\n",
       "<p>3540 rows × 10 columns</p>\n",
       "</div>"
      ],
      "text/plain": [
       "                     MODEL                                               MAKE  \\\n",
       "0                     1995                                              ACURA   \n",
       "1                     1995                                              ACURA   \n",
       "2                     1995                                              ACURA   \n",
       "3                     1995                                              ACURA   \n",
       "4                     1995                                              ACURA   \n",
       "...                    ...                                                ...   \n",
       "3535                   NaN                                         D = Diesel   \n",
       "3536                   NaN                                  E = Ethanol (E85)   \n",
       "3537                   NaN                                    N = Natural Gas   \n",
       "3538      Fuel Consumption  City and highway fuel consumption ratings are ...   \n",
       "3539  CO2 Emissions (g/km)  Estimated tailpipe carbon dioxide emissions (i...   \n",
       "\n",
       "           MODEL.1 VEHICLE_CLASS  ENGINE_SIZE  CYLINDERS TRANSMISSION FUEL  \\\n",
       "0          INTEGRA    SUBCOMPACT          1.8        4.0           A4    X   \n",
       "1          INTEGRA    SUBCOMPACT          1.8        4.0           M5    X   \n",
       "2     INTEGRA GS-R    SUBCOMPACT          1.8        4.0           M5    Z   \n",
       "3           LEGEND       COMPACT          3.2        6.0           A4    Z   \n",
       "4     LEGEND COUPE       COMPACT          3.2        6.0           A4    Z   \n",
       "...            ...           ...          ...        ...          ...  ...   \n",
       "3535           NaN           NaN          NaN        NaN          NaN  NaN   \n",
       "3536           NaN           NaN          NaN        NaN          NaN  NaN   \n",
       "3537           NaN           NaN          NaN        NaN          NaN  NaN   \n",
       "3538           NaN           NaN          NaN        NaN          NaN  NaN   \n",
       "3539           NaN           NaN          NaN        NaN          NaN  NaN   \n",
       "\n",
       "      FUEL_CONSUMPTION  CO2_EMISSIONS  \n",
       "0                 10.2          202.0  \n",
       "1                  9.6          193.0  \n",
       "2                  9.4          191.0  \n",
       "3                 12.6          251.0  \n",
       "4                 13.0          260.0  \n",
       "...                ...            ...  \n",
       "3535               NaN            NaN  \n",
       "3536               NaN            NaN  \n",
       "3537               NaN            NaN  \n",
       "3538               NaN            NaN  \n",
       "3539               NaN            NaN  \n",
       "\n",
       "[3540 rows x 10 columns]"
      ]
     },
     "execution_count": 16,
     "metadata": {},
     "output_type": "execute_result"
    }
   ],
   "source": [
    "df"
   ]
  },
  {
   "cell_type": "code",
   "execution_count": 17,
   "metadata": {},
   "outputs": [
    {
     "data": {
      "text/html": [
       "<div>\n",
       "<style scoped>\n",
       "    .dataframe tbody tr th:only-of-type {\n",
       "        vertical-align: middle;\n",
       "    }\n",
       "\n",
       "    .dataframe tbody tr th {\n",
       "        vertical-align: top;\n",
       "    }\n",
       "\n",
       "    .dataframe thead th {\n",
       "        text-align: right;\n",
       "    }\n",
       "</style>\n",
       "<table border=\"1\" class=\"dataframe\">\n",
       "  <thead>\n",
       "    <tr style=\"text-align: right;\">\n",
       "      <th></th>\n",
       "      <th>CYLINDERS</th>\n",
       "      <th>CO2_EMISSIONS</th>\n",
       "      <th>ENGINE_SIZE</th>\n",
       "      <th>FUEL_CONSUMPTION</th>\n",
       "    </tr>\n",
       "  </thead>\n",
       "  <tbody>\n",
       "    <tr>\n",
       "      <th>0</th>\n",
       "      <td>4.0</td>\n",
       "      <td>202.0</td>\n",
       "      <td>1.8</td>\n",
       "      <td>10.2</td>\n",
       "    </tr>\n",
       "    <tr>\n",
       "      <th>1</th>\n",
       "      <td>4.0</td>\n",
       "      <td>193.0</td>\n",
       "      <td>1.8</td>\n",
       "      <td>9.6</td>\n",
       "    </tr>\n",
       "    <tr>\n",
       "      <th>2</th>\n",
       "      <td>4.0</td>\n",
       "      <td>191.0</td>\n",
       "      <td>1.8</td>\n",
       "      <td>9.4</td>\n",
       "    </tr>\n",
       "    <tr>\n",
       "      <th>3</th>\n",
       "      <td>6.0</td>\n",
       "      <td>251.0</td>\n",
       "      <td>3.2</td>\n",
       "      <td>12.6</td>\n",
       "    </tr>\n",
       "    <tr>\n",
       "      <th>4</th>\n",
       "      <td>6.0</td>\n",
       "      <td>260.0</td>\n",
       "      <td>3.2</td>\n",
       "      <td>13.0</td>\n",
       "    </tr>\n",
       "    <tr>\n",
       "      <th>5</th>\n",
       "      <td>6.0</td>\n",
       "      <td>258.0</td>\n",
       "      <td>3.2</td>\n",
       "      <td>13.4</td>\n",
       "    </tr>\n",
       "    <tr>\n",
       "      <th>6</th>\n",
       "      <td>6.0</td>\n",
       "      <td>267.0</td>\n",
       "      <td>3.0</td>\n",
       "      <td>13.5</td>\n",
       "    </tr>\n",
       "    <tr>\n",
       "      <th>7</th>\n",
       "      <td>6.0</td>\n",
       "      <td>255.0</td>\n",
       "      <td>3.0</td>\n",
       "      <td>12.9</td>\n",
       "    </tr>\n",
       "    <tr>\n",
       "      <th>8</th>\n",
       "      <td>6.0</td>\n",
       "      <td>301.0</td>\n",
       "      <td>3.0</td>\n",
       "      <td>15.7</td>\n",
       "    </tr>\n",
       "  </tbody>\n",
       "</table>\n",
       "</div>"
      ],
      "text/plain": [
       "   CYLINDERS  CO2_EMISSIONS  ENGINE_SIZE  FUEL_CONSUMPTION\n",
       "0        4.0          202.0          1.8              10.2\n",
       "1        4.0          193.0          1.8               9.6\n",
       "2        4.0          191.0          1.8               9.4\n",
       "3        6.0          251.0          3.2              12.6\n",
       "4        6.0          260.0          3.2              13.0\n",
       "5        6.0          258.0          3.2              13.4\n",
       "6        6.0          267.0          3.0              13.5\n",
       "7        6.0          255.0          3.0              12.9\n",
       "8        6.0          301.0          3.0              15.7"
      ]
     },
     "execution_count": 17,
     "metadata": {},
     "output_type": "execute_result"
    }
   ],
   "source": [
    "cdf = df[['CYLINDERS','CO2_EMISSIONS','ENGINE_SIZE','FUEL_CONSUMPTION']]\n",
    "cdf.head(9)"
   ]
  },
  {
   "cell_type": "code",
   "execution_count": 18,
   "metadata": {},
   "outputs": [],
   "source": [
    "df2=cdf.dropna()\n",
    "msk = np.random.rand(len(df2)) < 0.8\n",
    "train = df2[msk]\n",
    "test = df2[~msk]"
   ]
  },
  {
   "cell_type": "code",
   "execution_count": 19,
   "metadata": {},
   "outputs": [],
   "source": [
    "regr = linearRegression()\n",
    "train_x = np.asanyarray(train[['ENGINE_SIZE']])\n",
    "train_y = np.asanyarray(train[['CO2_EMISSIONS']])\n",
    "regr.fit (train_x, train_y)"
   ]
  },
  {
   "cell_type": "code",
   "execution_count": 26,
   "metadata": {
    "scrolled": true
   },
   "outputs": [
    {
     "data": {
      "text/plain": [
       "array([16175.63279042])"
      ]
     },
     "execution_count": 26,
     "metadata": {},
     "output_type": "execute_result"
    }
   ],
   "source": [
    "'''test_x = np.asanyarray(test[['ENGINE_SIZE']])\n",
    "test_y = np.asanyarray(test[['CO2_EMISSIONS']])\n",
    "test_y_ = regr.predict(test_x)\n",
    "print(\"Mean absolute error: %.2f\" % np.mean(np.absolute(test_y_ - test_y)))\n",
    "print(\"Residual sum of squares (MSE): %.2f\" % np.mean((test_y_ - test_y) ** 2))\n",
    "print (test_y_)'''\n",
    "regr.predict(400)"
   ]
  },
  {
   "cell_type": "code",
   "execution_count": 29,
   "metadata": {},
   "outputs": [
    {
     "ename": "ModuleNotFoundError",
     "evalue": "No module named 'linear'",
     "output_type": "error",
     "traceback": [
      "\u001b[1;31m---------------------------------------------------------------------------\u001b[0m",
      "\u001b[1;31mModuleNotFoundError\u001b[0m                       Traceback (most recent call last)",
      "\u001b[1;32m<ipython-input-29-b19732445099>\u001b[0m in \u001b[0;36m<module>\u001b[1;34m\u001b[0m\n\u001b[0;32m      1\u001b[0m \u001b[1;32mimport\u001b[0m \u001b[0mnumpy\u001b[0m \u001b[1;32mas\u001b[0m \u001b[0mnp\u001b[0m\u001b[1;33m\u001b[0m\u001b[1;33m\u001b[0m\u001b[0m\n\u001b[0;32m      2\u001b[0m \u001b[1;32mimport\u001b[0m \u001b[0mrandom\u001b[0m \u001b[1;32mas\u001b[0m \u001b[0mrd\u001b[0m\u001b[1;33m\u001b[0m\u001b[1;33m\u001b[0m\u001b[0m\n\u001b[1;32m----> 3\u001b[1;33m \u001b[1;32mimport\u001b[0m \u001b[0mlinear\u001b[0m\u001b[1;33m\u001b[0m\u001b[1;33m\u001b[0m\u001b[0m\n\u001b[0m\u001b[0;32m      4\u001b[0m \u001b[1;32mimport\u001b[0m \u001b[0mpandas\u001b[0m \u001b[1;32mas\u001b[0m \u001b[0mpd\u001b[0m\u001b[1;33m\u001b[0m\u001b[1;33m\u001b[0m\u001b[0m\n\u001b[0;32m      5\u001b[0m \u001b[1;33m\u001b[0m\u001b[0m\n",
      "\u001b[1;31mModuleNotFoundError\u001b[0m: No module named 'linear'"
     ]
    }
   ],
   "source": [
    "import numpy as np\n",
    "import random as rd\n",
    "import linear\n",
    "import pandas as pd\n",
    "\n",
    "clf=linear.linear_regression()\n",
    "\n",
    "\n",
    "df=pd.read_csv(r'C:\\Users\\User\\dataset.csv', encoding = \"ISO-8859-1\")\n",
    "cdf = df[['CYLINDERS','CO2_EMISSIONS','ENGINE_SIZE','FUEL_CONSUMPTION']]\n",
    "ndf=cdf.dropna()\n",
    "x=ndf.CYLINDERS\n",
    "y=ndf.CO2_EMISSIONS\n",
    "\n",
    "clf.fit(x,y)\n",
    "clf.predict(400)"
   ]
  },
  {
   "cell_type": "code",
   "execution_count": 30,
   "metadata": {},
   "outputs": [],
   "source": [
    "class linear_regression():\n",
    "    \n",
    "    def __init__(self):  #constructor to initialize the value\n",
    "        self.x=[]\n",
    "        self.y=[]\n",
    "        self.n=0\n",
    "        self.q0=0\n",
    "        self.q1=0\n",
    "        \n",
    "    def fit(self,x,y):    #trains the model according to the given data\n",
    "        self.x=x\n",
    "        self.y=y\n",
    "        self.n=len(self.x)\n",
    "        a=0                          #numerator of q1\n",
    "        b=0                          #denomerator of q1\n",
    "        x1=sum(self.x)/self.n        #the mean of xs\n",
    "        y1=sum(self.y)/self.n        #the mean of ys\n",
    "        for i in  range(self.n):     #finding the values of numerator and dinominator\n",
    "            a=a+(self.x[i]-x1)*(self.y[i]-y1)\n",
    "            b=b+(self.x[i]-x1)**2\n",
    "        self.q1=a/b         \n",
    "        self.q0=y1-self.q1*x1\n",
    "        \n",
    "    def predict(self,x_val):\n",
    "        return self.q0+self.q1*x_val\n"
   ]
  },
  {
   "cell_type": "code",
   "execution_count": 32,
   "metadata": {},
   "outputs": [
    {
     "data": {
      "text/plain": [
       "12493.223281308898"
      ]
     },
     "execution_count": 32,
     "metadata": {},
     "output_type": "execute_result"
    }
   ],
   "source": [
    "import numpy as np\n",
    "import random as rd\n",
    "import pandas as pd\n",
    "\n",
    "clf=linear_regression()\n",
    "\n",
    "\n",
    "df=pd.read_csv(r'C:\\Users\\User\\dataset.csv', encoding = \"ISO-8859-1\")\n",
    "cdf = df[['CYLINDERS','CO2_EMISSIONS','ENGINE_SIZE','FUEL_CONSUMPTION']]\n",
    "ndf=cdf.dropna()\n",
    "x=ndf.CYLINDERS\n",
    "y=ndf.CO2_EMISSIONS\n",
    "\n",
    "clf.fit(x,y)\n",
    "clf.predict(400)"
   ]
  },
  {
   "cell_type": "code",
   "execution_count": null,
   "metadata": {},
   "outputs": [],
   "source": []
  }
 ],
 "metadata": {
  "kernelspec": {
   "display_name": "Python 3",
   "language": "python",
   "name": "python3"
  },
  "language_info": {
   "codemirror_mode": {
    "name": "ipython",
    "version": 3
   },
   "file_extension": ".py",
   "mimetype": "text/x-python",
   "name": "python",
   "nbconvert_exporter": "python",
   "pygments_lexer": "ipython3",
   "version": "3.8.3"
  }
 },
 "nbformat": 4,
 "nbformat_minor": 4
}
